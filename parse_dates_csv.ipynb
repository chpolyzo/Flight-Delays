{
 "cells": [
  {
   "cell_type": "code",
   "execution_count": 1,
   "metadata": {},
   "outputs": [],
   "source": [
    "# import modules\n",
    "import pandas as pd"
   ]
  },
  {
   "cell_type": "code",
   "execution_count": 2,
   "metadata": {},
   "outputs": [],
   "source": [
    "date = {'date_col' : [\"DayofMonth\", \"Month\", \"Year\"]}\n",
    "\n",
    "ddf_88 = pd.read_csv('88_delays.csv', nrows=None, parse_dates = date, encoding='latin-1')\n",
    "ddf_98 = pd.read_csv('98_delays.csv', nrows=None, parse_dates = date, encoding='latin-1')\n",
    "ddf_08 = pd.read_csv('08_delays.csv', nrows=None, parse_dates = date, encoding='latin-1')"
   ]
  },
  {
   "cell_type": "code",
   "execution_count": 4,
   "metadata": {},
   "outputs": [],
   "source": [
    "ddf_88.to_csv('88_delays_date.csv', index = False)\n",
    "ddf_98.to_csv('98_delays_date.csv', index = False)\n",
    "ddf_08.to_csv('08_delays_date.csv', index = False)"
   ]
  }
 ],
 "metadata": {
  "kernelspec": {
   "display_name": "Python [conda env:py3]",
   "language": "python",
   "name": "conda-env-py3-py"
  },
  "language_info": {
   "codemirror_mode": {
    "name": "ipython",
    "version": 3
   },
   "file_extension": ".py",
   "mimetype": "text/x-python",
   "name": "python",
   "nbconvert_exporter": "python",
   "pygments_lexer": "ipython3",
   "version": "3.7.3"
  }
 },
 "nbformat": 4,
 "nbformat_minor": 2
}
